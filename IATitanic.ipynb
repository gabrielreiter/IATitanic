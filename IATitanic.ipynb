{
  "nbformat": 4,
  "nbformat_minor": 0,
  "metadata": {
    "colab": {
      "provenance": []
    },
    "kernelspec": {
      "name": "python3",
      "display_name": "Python 3"
    },
    "language_info": {
      "name": "python"
    }
  },
  "cells": [
    {
      "cell_type": "code",
      "execution_count": 6,
      "metadata": {
        "colab": {
          "base_uri": "https://localhost:8080/"
        },
        "id": "FwHvEeNQh_cQ",
        "outputId": "03f57623-e785-4217-b9f0-1e35d2ba62ad"
      },
      "outputs": [
        {
          "output_type": "stream",
          "name": "stdout",
          "text": [
            "Valores ausentes por coluna:\n",
            " PassengerId      0\n",
            "Survived         0\n",
            "Pclass           0\n",
            "Name             0\n",
            "Sex              0\n",
            "Age            177\n",
            "SibSp            0\n",
            "Parch            0\n",
            "Ticket           0\n",
            "Fare             0\n",
            "Cabin          687\n",
            "Embarked         2\n",
            "dtype: int64\n",
            "Amostra do dataframe após o pré-processamento:\n",
            "     Pclass   Age     Fare  Survived  Sex_male\n",
            "1        1  38.0  71.2833         1     False\n",
            "3        1  35.0  53.1000         1     False\n",
            "6        1  54.0  51.8625         0      True\n",
            "10       3   4.0  16.7000         1     False\n",
            "11       1  58.0  26.5500         1     False\n"
          ]
        },
        {
          "output_type": "stream",
          "name": "stderr",
          "text": [
            "<ipython-input-6-49df547d7a37>:10: FutureWarning: A value is trying to be set on a copy of a DataFrame or Series through chained assignment using an inplace method.\n",
            "The behavior will change in pandas 3.0. This inplace method will never work because the intermediate object on which we are setting values always behaves as a copy.\n",
            "\n",
            "For example, when doing 'df[col].method(value, inplace=True)', try using 'df.method({col: value}, inplace=True)' or df[col] = df[col].method(value) instead, to perform the operation inplace on the original object.\n",
            "\n",
            "\n",
            "  df['Age'].fillna(df['Age'].median(), inplace=True)\n",
            "<ipython-input-6-49df547d7a37>:11: FutureWarning: A value is trying to be set on a copy of a DataFrame or Series through chained assignment using an inplace method.\n",
            "The behavior will change in pandas 3.0. This inplace method will never work because the intermediate object on which we are setting values always behaves as a copy.\n",
            "\n",
            "For example, when doing 'df[col].method(value, inplace=True)', try using 'df.method({col: value}, inplace=True)' or df[col] = df[col].method(value) instead, to perform the operation inplace on the original object.\n",
            "\n",
            "\n",
            "  df['Fare'].fillna(df['Fare'].median(), inplace=True)\n"
          ]
        }
      ],
      "source": [
        "import pandas as pd\n",
        "\n",
        "# Carregar o dataset\n",
        "df = pd.read_csv('Dataset_Titanic.csv')\n",
        "\n",
        "# Exibir a contagem de valores nulos por coluna\n",
        "print(\"Valores ausentes por coluna:\\n\", df.isnull().sum())\n",
        "\n",
        "# Preencher valores ausentes nas colunas 'Age' e 'Fare' com a mediana\n",
        "df['Age'].fillna(df['Age'].median(), inplace=True)\n",
        "df['Fare'].fillna(df['Fare'].median(), inplace=True)\n",
        "\n",
        "# Remover linhas restantes que ainda contenham valores nulos\n",
        "df_clean = df.dropna()\n",
        "\n",
        "# Selecionar as colunas de interesse\n",
        "df_selected = df_clean[['Pclass', 'Sex', 'Age', 'Fare', 'Survived']]\n",
        "\n",
        "# Converter variáveis categóricas em numéricas (apenas 'Sex')\n",
        "df_selected = pd.get_dummies(df_selected, columns=['Sex'], drop_first=True)\n",
        "\n",
        "# Exibir as primeiras 5 linhas do dataframe modificado\n",
        "print(\"Amostra do dataframe após o pré-processamento:\\n\", df_selected.head())\n",
        "\n",
        "# Separar as variáveis de entrada (X) e saída (y)\n",
        "X = df_selected[['Pclass', 'Sex_male', 'Age', 'Fare']]\n",
        "y = df_selected['Survived']"
      ]
    },
    {
      "cell_type": "code",
      "source": [
        "# Dividindo os dados em treino e teste (70% treino, 30% teste)\n",
        "from sklearn.model_selection import train_test_split\n",
        "X_train, X_test, y_train, y_test = train_test_split(X, y, test_size=0.3, random_state=42)\n",
        "\n",
        "# Importando e instanciando o modelo k-NN com 3 vizinhos\n",
        "from sklearn.neighbors import KNeighborsClassifier\n",
        "model_knn = KNeighborsClassifier(n_neighbors=3)\n",
        "\n",
        "# Treinando o modelo com os dados de treino\n",
        "model_knn.fit(X_train, y_train)\n",
        "\n",
        "# Fazendo previsões no conjunto de teste\n",
        "y_pred = model_knn.predict(X_test)\n",
        "\n"
      ],
      "metadata": {
        "id": "crCFBxRujJyM"
      },
      "execution_count": 7,
      "outputs": []
    },
    {
      "cell_type": "code",
      "source": [
        "# Importar a métrica de acurácia e calcular o valor\n",
        "from sklearn.metrics import accuracy_score\n",
        "acc = accuracy_score(y_test, y_pred)\n",
        "print(f'Acurácia do modelo: {acc:.2f}')\n",
        "\n",
        "# Importar a matriz de confusão e gerar os resultados\n",
        "from sklearn.metrics import confusion_matrix\n",
        "conf_matrix = confusion_matrix(y_test, y_pred)\n",
        "\n",
        "# Exibir a matriz de confusão com um título descritivo\n",
        "print(\"Matriz de Confusão:\\n\", conf_matrix)\n"
      ],
      "metadata": {
        "colab": {
          "base_uri": "https://localhost:8080/"
        },
        "id": "OOmqIEIJm454",
        "outputId": "c59dd8cd-a34c-449d-a1b1-8a3037ddcc94"
      },
      "execution_count": 8,
      "outputs": [
        {
          "output_type": "stream",
          "name": "stdout",
          "text": [
            "Acurácia do modelo: 0.66\n",
            "Matriz de Confusão:\n",
            " [[ 3 10]\n",
            " [11 37]]\n"
          ]
        }
      ]
    }
  ]
}